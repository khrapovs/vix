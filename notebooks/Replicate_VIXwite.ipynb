{
 "cells": [
  {
   "cell_type": "markdown",
   "metadata": {},
   "source": [
    "# Replication of VIX"
   ]
  },
  {
   "cell_type": "markdown",
   "metadata": {},
   "source": [
    "This notebook shows how to reproduce the VIX given the data in CBOE White Paper (http://www.cboe.com/micro/vix/vixwhite.pdf). The code works for any option data set, not only one day as in the White Paper. The option data for this example is exactly the same as in the Appendix 1 of the White Paper."
   ]
  },
  {
   "cell_type": "markdown",
   "metadata": {},
   "source": [
    "Given are the prices $C_{i}$, $i\\in\\left\\{ 0,\\ldots,n\\right\\}$, of a series of European call options on the index with fixed maturity date $T$ and exercise prices $K_{i}$, $i\\in\\left\\{ 0,\\ldots,n\\right\\}$, as well as the prices $P_{i}$, $i\\in\\left\\{ 0,\\ldots,n\\right\\}$, of a series of European put options on the index with the same maturity date $T$ and exercise prices $K_{i}$. Let further hold $K_{i}<K_{i+1}$ for all $i\\in\\left\\{ 0,\\ldots,n-1\\right\\}$.\n",
    "\n",
    "The VIX itself is\n",
    "$$VIX=100\\cdot\\sqrt{V^{2}},$$\n",
    "where $V$ is explained below.\n",
    "\n",
    "Since there are days when there no options with precisely 30 days to expiration, we have to interpolate between near-term index and next-term index:\n",
    "$$V^{2}=\\left[T_{1}\\sigma_{1}^{2}\\left(\\frac{N_{T_{2}}-N_{30}}{N_{T_{2}}-N_{T_{1}}}\\right)+T_{2}\\sigma_{2}^{2}\\left(\\frac{N_{30}-N_{T_{1}}}{N_{T_{2}}-N_{T_{1}}}\\right)\\right]\\frac{365}{30}$$\n",
    "with each $\\sigma_{i}^{2}$ computed according to\n",
    "$$\\sigma^{2}=\\frac{2}{T}\\sum_{i=0}^{n}\\frac{\\Delta K_{i}}{K_{i}^{2}}e^{rT}M_{i}-\\frac{1}{T}\\left(\\frac{F}{K_{*}}-1\\right)^{2},$$\n",
    "where the distance between strikes is\n",
    "$$\\Delta K_{i}\t=\t\\begin{cases}\n",
    "K_{1}-K_{0}, & i=0\\\\\n",
    "\\frac{1}{2}\\left(K_{i+1}-K_{i-1}\\right), & i=1,\\ldots,n-1\\\\\n",
    "K_{n}-K_{n-1}, & i=n\n",
    "\\end{cases}$$\n",
    "the out-of-the-money option premium is\n",
    "$$M_{i}\t=\t\\begin{cases}\n",
    "P_{i}, & K_{i}<K_{*}\\\\\n",
    "\\frac{1}{2}\\left(P_{i}+C_{i}\\right), & K_{i}=K_{*}\\\\\n",
    "C_{i}, & K_{i}>K_{*}\n",
    "\\end{cases}$$\n",
    "at-the-money strike price is\n",
    "$$K_{*}\t=\t\\max\\left\\{ K_{i}<F\\right\\},$$\n",
    "forward price extracted from put-call parity:\n",
    "$$F\t=\tK_{j}+e^{rT}\\left|C_{j}-P_{j}\\right|,$$\n",
    "with\n",
    "$$j=\\min\\left\\{ \\left|C_{i}-P_{i}\\right|\\right\\},$$\n",
    "and finally $r$ is the constant risk-free short rate appropriate for maturity $T$."
   ]
  },
  {
   "cell_type": "markdown",
   "metadata": {},
   "source": [
    "## Import modules"
   ]
  },
  {
   "cell_type": "code",
   "execution_count": 1,
   "metadata": {
    "pycharm": {
     "is_executing": false
    }
   },
   "outputs": [],
   "source": [
    "import datetime as dt\n",
    "import pandas as pd\n",
    "import numpy as np"
   ]
  },
  {
   "cell_type": "markdown",
   "metadata": {},
   "source": [
    "## Import yields"
   ]
  },
  {
   "cell_type": "markdown",
   "metadata": {},
   "source": [
    "In the white paper it is assumed that the risk-free rate is 0.38% for both near- and nex-term options. The date chosen for computation is Jan 1, 2009 with options expiring in 9 and 37 days."
   ]
  },
  {
   "cell_type": "code",
   "execution_count": 2,
   "metadata": {
    "pycharm": {
     "is_executing": false
    }
   },
   "outputs": [
    {
     "data": {
      "text/html": [
       "<div>\n",
       "<style scoped>\n",
       "    .dataframe tbody tr th:only-of-type {\n",
       "        vertical-align: middle;\n",
       "    }\n",
       "\n",
       "    .dataframe tbody tr th {\n",
       "        vertical-align: top;\n",
       "    }\n",
       "\n",
       "    .dataframe thead th {\n",
       "        text-align: right;\n",
       "    }\n",
       "</style>\n",
       "<table border=\"1\" class=\"dataframe\">\n",
       "  <thead>\n",
       "    <tr style=\"text-align: right;\">\n",
       "      <th></th>\n",
       "      <th></th>\n",
       "      <th>Rate</th>\n",
       "    </tr>\n",
       "    <tr>\n",
       "      <th>Date</th>\n",
       "      <th>Days</th>\n",
       "      <th></th>\n",
       "    </tr>\n",
       "  </thead>\n",
       "  <tbody>\n",
       "    <tr>\n",
       "      <th rowspan=\"2\" valign=\"top\">2009-01-01</th>\n",
       "      <th>9</th>\n",
       "      <td>0.38</td>\n",
       "    </tr>\n",
       "    <tr>\n",
       "      <th>37</th>\n",
       "      <td>0.38</td>\n",
       "    </tr>\n",
       "  </tbody>\n",
       "</table>\n",
       "</div>"
      ],
      "text/plain": [
       "                 Rate\n",
       "Date       Days      \n",
       "2009-01-01 9     0.38\n",
       "           37    0.38"
      ]
     },
     "execution_count": 2,
     "metadata": {},
     "output_type": "execute_result"
    }
   ],
   "source": [
    "f = lambda x: dt.datetime.strptime(x, '%Y%m%d')\n",
    "yields = pd.read_csv('../data/yields.csv', converters = {'Date' : f})\n",
    "yields = yields.set_index(['Date','Days'])\n",
    "\n",
    "yields"
   ]
  },
  {
   "cell_type": "markdown",
   "metadata": {},
   "source": [
    "## Import options"
   ]
  },
  {
   "cell_type": "code",
   "execution_count": 3,
   "metadata": {
    "pycharm": {
     "is_executing": false
    }
   },
   "outputs": [
    {
     "data": {
      "text/html": [
       "<div>\n",
       "<style scoped>\n",
       "    .dataframe tbody tr th:only-of-type {\n",
       "        vertical-align: middle;\n",
       "    }\n",
       "\n",
       "    .dataframe tbody tr th {\n",
       "        vertical-align: top;\n",
       "    }\n",
       "\n",
       "    .dataframe thead th {\n",
       "        text-align: right;\n",
       "    }\n",
       "</style>\n",
       "<table border=\"1\" class=\"dataframe\">\n",
       "  <thead>\n",
       "    <tr style=\"text-align: right;\">\n",
       "      <th></th>\n",
       "      <th>Expiration</th>\n",
       "      <th>Days</th>\n",
       "      <th>Strike</th>\n",
       "      <th>Call Bid</th>\n",
       "      <th>Call Ask</th>\n",
       "      <th>Put Bid</th>\n",
       "      <th>Put Ask</th>\n",
       "      <th>Date</th>\n",
       "    </tr>\n",
       "  </thead>\n",
       "  <tbody>\n",
       "    <tr>\n",
       "      <th>0</th>\n",
       "      <td>2009-01-10</td>\n",
       "      <td>9</td>\n",
       "      <td>200.0</td>\n",
       "      <td>717.6</td>\n",
       "      <td>722.80</td>\n",
       "      <td>0.0</td>\n",
       "      <td>0.05</td>\n",
       "      <td>2009-01-01</td>\n",
       "    </tr>\n",
       "    <tr>\n",
       "      <th>1</th>\n",
       "      <td>2009-01-10</td>\n",
       "      <td>9</td>\n",
       "      <td>250.0</td>\n",
       "      <td>667.6</td>\n",
       "      <td>672.90</td>\n",
       "      <td>0.0</td>\n",
       "      <td>0.05</td>\n",
       "      <td>2009-01-01</td>\n",
       "    </tr>\n",
       "    <tr>\n",
       "      <th>2</th>\n",
       "      <td>2009-01-10</td>\n",
       "      <td>9</td>\n",
       "      <td>300.0</td>\n",
       "      <td>617.9</td>\n",
       "      <td>622.90</td>\n",
       "      <td>0.0</td>\n",
       "      <td>0.05</td>\n",
       "      <td>2009-01-01</td>\n",
       "    </tr>\n",
       "    <tr>\n",
       "      <th>3</th>\n",
       "      <td>2009-01-10</td>\n",
       "      <td>9</td>\n",
       "      <td>350.0</td>\n",
       "      <td>567.9</td>\n",
       "      <td>572.90</td>\n",
       "      <td>0.0</td>\n",
       "      <td>0.05</td>\n",
       "      <td>2009-01-01</td>\n",
       "    </tr>\n",
       "    <tr>\n",
       "      <th>4</th>\n",
       "      <td>2009-01-10</td>\n",
       "      <td>9</td>\n",
       "      <td>375.0</td>\n",
       "      <td>542.9</td>\n",
       "      <td>547.90</td>\n",
       "      <td>0.0</td>\n",
       "      <td>0.10</td>\n",
       "      <td>2009-01-01</td>\n",
       "    </tr>\n",
       "    <tr>\n",
       "      <th>...</th>\n",
       "      <td>...</td>\n",
       "      <td>...</td>\n",
       "      <td>...</td>\n",
       "      <td>...</td>\n",
       "      <td>...</td>\n",
       "      <td>...</td>\n",
       "      <td>...</td>\n",
       "      <td>...</td>\n",
       "    </tr>\n",
       "    <tr>\n",
       "      <th>363</th>\n",
       "      <td>2009-02-07</td>\n",
       "      <td>37</td>\n",
       "      <td>1800.0</td>\n",
       "      <td>0.0</td>\n",
       "      <td>0.75</td>\n",
       "      <td>875.6</td>\n",
       "      <td>880.60</td>\n",
       "      <td>2009-01-01</td>\n",
       "    </tr>\n",
       "    <tr>\n",
       "      <th>364</th>\n",
       "      <td>2009-02-07</td>\n",
       "      <td>37</td>\n",
       "      <td>1850.0</td>\n",
       "      <td>0.0</td>\n",
       "      <td>0.75</td>\n",
       "      <td>925.5</td>\n",
       "      <td>930.50</td>\n",
       "      <td>2009-01-01</td>\n",
       "    </tr>\n",
       "    <tr>\n",
       "      <th>365</th>\n",
       "      <td>2009-02-07</td>\n",
       "      <td>37</td>\n",
       "      <td>1900.0</td>\n",
       "      <td>0.0</td>\n",
       "      <td>0.20</td>\n",
       "      <td>974.7</td>\n",
       "      <td>979.90</td>\n",
       "      <td>2009-01-01</td>\n",
       "    </tr>\n",
       "    <tr>\n",
       "      <th>366</th>\n",
       "      <td>2009-02-07</td>\n",
       "      <td>37</td>\n",
       "      <td>1950.0</td>\n",
       "      <td>0.0</td>\n",
       "      <td>0.75</td>\n",
       "      <td>1025.1</td>\n",
       "      <td>1030.60</td>\n",
       "      <td>2009-01-01</td>\n",
       "    </tr>\n",
       "    <tr>\n",
       "      <th>367</th>\n",
       "      <td>2009-02-07</td>\n",
       "      <td>37</td>\n",
       "      <td>2000.0</td>\n",
       "      <td>0.0</td>\n",
       "      <td>0.20</td>\n",
       "      <td>1074.8</td>\n",
       "      <td>1079.80</td>\n",
       "      <td>2009-01-01</td>\n",
       "    </tr>\n",
       "  </tbody>\n",
       "</table>\n",
       "<p>368 rows × 8 columns</p>\n",
       "</div>"
      ],
      "text/plain": [
       "    Expiration  Days  Strike  Call Bid  Call Ask  Put Bid  Put Ask       Date\n",
       "0   2009-01-10     9   200.0     717.6    722.80      0.0     0.05 2009-01-01\n",
       "1   2009-01-10     9   250.0     667.6    672.90      0.0     0.05 2009-01-01\n",
       "2   2009-01-10     9   300.0     617.9    622.90      0.0     0.05 2009-01-01\n",
       "3   2009-01-10     9   350.0     567.9    572.90      0.0     0.05 2009-01-01\n",
       "4   2009-01-10     9   375.0     542.9    547.90      0.0     0.10 2009-01-01\n",
       "..         ...   ...     ...       ...       ...      ...      ...        ...\n",
       "363 2009-02-07    37  1800.0       0.0      0.75    875.6   880.60 2009-01-01\n",
       "364 2009-02-07    37  1850.0       0.0      0.75    925.5   930.50 2009-01-01\n",
       "365 2009-02-07    37  1900.0       0.0      0.20    974.7   979.90 2009-01-01\n",
       "366 2009-02-07    37  1950.0       0.0      0.75   1025.1  1030.60 2009-01-01\n",
       "367 2009-02-07    37  2000.0       0.0      0.20   1074.8  1079.80 2009-01-01\n",
       "\n",
       "[368 rows x 8 columns]"
      ]
     },
     "execution_count": 3,
     "metadata": {},
     "output_type": "execute_result"
    }
   ],
   "source": [
    "# Function to parse dates of '20090101' format\n",
    "f = lambda x: dt.datetime.strptime(x, '%Y%m%d')\n",
    "raw_options = pd.read_csv('../data/options.csv', converters = {'Expiration' : f})\n",
    "\n",
    "# Function to convert days to internal timedelta format\n",
    "f_delta = lambda x: dt.timedelta(days = int(x))\n",
    "raw_options['Date'] = raw_options['Expiration'] - raw_options['Days'].map(f_delta)\n",
    "# Convert integer strikes to float! Otherwise it may lead to accumulation of errors.\n",
    "raw_options['Strike'] = raw_options['Strike'].astype(float)\n",
    "\n",
    "raw_options"
   ]
  },
  {
   "cell_type": "markdown",
   "metadata": {},
   "source": [
    "## Do some cleaning and indexing"
   ]
  },
  {
   "cell_type": "code",
   "execution_count": 4,
   "metadata": {
    "pycharm": {
     "is_executing": false
    }
   },
   "outputs": [
    {
     "data": {
      "text/html": [
       "<div>\n",
       "<style scoped>\n",
       "    .dataframe tbody tr th:only-of-type {\n",
       "        vertical-align: middle;\n",
       "    }\n",
       "\n",
       "    .dataframe tbody tr th {\n",
       "        vertical-align: top;\n",
       "    }\n",
       "\n",
       "    .dataframe thead th {\n",
       "        text-align: right;\n",
       "    }\n",
       "</style>\n",
       "<table border=\"1\" class=\"dataframe\">\n",
       "  <thead>\n",
       "    <tr style=\"text-align: right;\">\n",
       "      <th></th>\n",
       "      <th></th>\n",
       "      <th></th>\n",
       "      <th></th>\n",
       "      <th>Bid</th>\n",
       "      <th>Ask</th>\n",
       "    </tr>\n",
       "    <tr>\n",
       "      <th>Date</th>\n",
       "      <th>Days</th>\n",
       "      <th>CP</th>\n",
       "      <th>Strike</th>\n",
       "      <th></th>\n",
       "      <th></th>\n",
       "    </tr>\n",
       "  </thead>\n",
       "  <tbody>\n",
       "    <tr>\n",
       "      <th rowspan=\"5\" valign=\"top\">2009-01-01</th>\n",
       "      <th rowspan=\"5\" valign=\"top\">9</th>\n",
       "      <th rowspan=\"5\" valign=\"top\">C</th>\n",
       "      <th>200.0</th>\n",
       "      <td>717.6</td>\n",
       "      <td>722.8</td>\n",
       "    </tr>\n",
       "    <tr>\n",
       "      <th>250.0</th>\n",
       "      <td>667.6</td>\n",
       "      <td>672.9</td>\n",
       "    </tr>\n",
       "    <tr>\n",
       "      <th>300.0</th>\n",
       "      <td>617.9</td>\n",
       "      <td>622.9</td>\n",
       "    </tr>\n",
       "    <tr>\n",
       "      <th>350.0</th>\n",
       "      <td>567.9</td>\n",
       "      <td>572.9</td>\n",
       "    </tr>\n",
       "    <tr>\n",
       "      <th>375.0</th>\n",
       "      <td>542.9</td>\n",
       "      <td>547.9</td>\n",
       "    </tr>\n",
       "  </tbody>\n",
       "</table>\n",
       "</div>"
      ],
      "text/plain": [
       "                             Bid    Ask\n",
       "Date       Days CP Strike              \n",
       "2009-01-01 9    C  200.0   717.6  722.8\n",
       "                   250.0   667.6  672.9\n",
       "                   300.0   617.9  622.9\n",
       "                   350.0   567.9  572.9\n",
       "                   375.0   542.9  547.9"
      ]
     },
     "execution_count": 4,
     "metadata": {},
     "output_type": "execute_result"
    }
   ],
   "source": [
    "# Since VIX is computed for the date of option quotations, we do not really need Expiration\n",
    "options = raw_options.set_index(['Date','Days','Strike']).drop('Expiration', axis = 1)\n",
    "\n",
    "# Do some renaming and separate calls from puts\n",
    "calls = options[['Call Bid','Call Ask']].rename(columns = {'Call Bid' : 'Bid', 'Call Ask' : 'Ask'})\n",
    "puts = options[['Put Bid','Put Ask']].rename(columns = {'Put Bid' : 'Bid', 'Put Ask' : 'Ask'})\n",
    "\n",
    "# Add a column indicating the type of the option\n",
    "calls['CP'], puts['CP'] = 'C', 'P'\n",
    "\n",
    "# Merge calls and puts\n",
    "options = pd.concat([calls, puts])\n",
    "\n",
    "# Reindex and sort\n",
    "options = options.reset_index().set_index(['Date','Days','CP','Strike']).sort_index()\n",
    "\n",
    "options.head()"
   ]
  },
  {
   "cell_type": "markdown",
   "metadata": {},
   "source": [
    "## Compute bid/ask average"
   ]
  },
  {
   "cell_type": "markdown",
   "metadata": {},
   "source": [
    "This step is used further to filter out in-the-money options."
   ]
  },
  {
   "cell_type": "code",
   "execution_count": 5,
   "metadata": {
    "pycharm": {
     "is_executing": false
    }
   },
   "outputs": [
    {
     "data": {
      "text/html": [
       "<div>\n",
       "<style scoped>\n",
       "    .dataframe tbody tr th:only-of-type {\n",
       "        vertical-align: middle;\n",
       "    }\n",
       "\n",
       "    .dataframe tbody tr th {\n",
       "        vertical-align: top;\n",
       "    }\n",
       "\n",
       "    .dataframe thead th {\n",
       "        text-align: right;\n",
       "    }\n",
       "</style>\n",
       "<table border=\"1\" class=\"dataframe\">\n",
       "  <thead>\n",
       "    <tr style=\"text-align: right;\">\n",
       "      <th></th>\n",
       "      <th></th>\n",
       "      <th>CP</th>\n",
       "      <th>C</th>\n",
       "      <th>P</th>\n",
       "    </tr>\n",
       "    <tr>\n",
       "      <th>Date</th>\n",
       "      <th>Days</th>\n",
       "      <th>Strike</th>\n",
       "      <th></th>\n",
       "      <th></th>\n",
       "    </tr>\n",
       "  </thead>\n",
       "  <tbody>\n",
       "    <tr>\n",
       "      <th rowspan=\"5\" valign=\"top\">2009-01-01</th>\n",
       "      <th rowspan=\"5\" valign=\"top\">9</th>\n",
       "      <th>400.0</th>\n",
       "      <td>520.45</td>\n",
       "      <td>0.125</td>\n",
       "    </tr>\n",
       "    <tr>\n",
       "      <th>425.0</th>\n",
       "      <td>496.10</td>\n",
       "      <td>0.125</td>\n",
       "    </tr>\n",
       "    <tr>\n",
       "      <th>450.0</th>\n",
       "      <td>470.50</td>\n",
       "      <td>0.125</td>\n",
       "    </tr>\n",
       "    <tr>\n",
       "      <th>470.0</th>\n",
       "      <td>450.50</td>\n",
       "      <td>0.150</td>\n",
       "    </tr>\n",
       "    <tr>\n",
       "      <th>475.0</th>\n",
       "      <td>445.50</td>\n",
       "      <td>0.150</td>\n",
       "    </tr>\n",
       "  </tbody>\n",
       "</table>\n",
       "</div>"
      ],
      "text/plain": [
       "CP                           C      P\n",
       "Date       Days Strike               \n",
       "2009-01-01 9    400.0   520.45  0.125\n",
       "                425.0   496.10  0.125\n",
       "                450.0   470.50  0.125\n",
       "                470.0   450.50  0.150\n",
       "                475.0   445.50  0.150"
      ]
     },
     "execution_count": 5,
     "metadata": {},
     "output_type": "execute_result"
    }
   ],
   "source": [
    "options['Premium'] = (options['Bid'] + options['Ask']) / 2\n",
    "options2 = options[options['Bid'] > 0]['Premium'].unstack('CP')\n",
    "\n",
    "options2.dropna().head()"
   ]
  },
  {
   "cell_type": "markdown",
   "metadata": {},
   "source": [
    "## Determine minimum difference"
   ]
  },
  {
   "cell_type": "code",
   "execution_count": 6,
   "metadata": {
    "pycharm": {
     "is_executing": false
    }
   },
   "outputs": [
    {
     "data": {
      "text/html": [
       "<div>\n",
       "<style scoped>\n",
       "    .dataframe tbody tr th:only-of-type {\n",
       "        vertical-align: middle;\n",
       "    }\n",
       "\n",
       "    .dataframe tbody tr th {\n",
       "        vertical-align: top;\n",
       "    }\n",
       "\n",
       "    .dataframe thead th {\n",
       "        text-align: right;\n",
       "    }\n",
       "</style>\n",
       "<table border=\"1\" class=\"dataframe\">\n",
       "  <thead>\n",
       "    <tr style=\"text-align: right;\">\n",
       "      <th></th>\n",
       "      <th></th>\n",
       "      <th>CP</th>\n",
       "      <th>C</th>\n",
       "      <th>P</th>\n",
       "      <th>CPdiff</th>\n",
       "      <th>min</th>\n",
       "    </tr>\n",
       "    <tr>\n",
       "      <th>Date</th>\n",
       "      <th>Days</th>\n",
       "      <th>Strike</th>\n",
       "      <th></th>\n",
       "      <th></th>\n",
       "      <th></th>\n",
       "      <th></th>\n",
       "    </tr>\n",
       "  </thead>\n",
       "  <tbody>\n",
       "    <tr>\n",
       "      <th rowspan=\"5\" valign=\"top\">2009-01-01</th>\n",
       "      <th rowspan=\"5\" valign=\"top\">9</th>\n",
       "      <th>400.0</th>\n",
       "      <td>520.45</td>\n",
       "      <td>0.125</td>\n",
       "      <td>520.325</td>\n",
       "      <td>False</td>\n",
       "    </tr>\n",
       "    <tr>\n",
       "      <th>425.0</th>\n",
       "      <td>496.10</td>\n",
       "      <td>0.125</td>\n",
       "      <td>495.975</td>\n",
       "      <td>False</td>\n",
       "    </tr>\n",
       "    <tr>\n",
       "      <th>450.0</th>\n",
       "      <td>470.50</td>\n",
       "      <td>0.125</td>\n",
       "      <td>470.375</td>\n",
       "      <td>False</td>\n",
       "    </tr>\n",
       "    <tr>\n",
       "      <th>470.0</th>\n",
       "      <td>450.50</td>\n",
       "      <td>0.150</td>\n",
       "      <td>450.350</td>\n",
       "      <td>False</td>\n",
       "    </tr>\n",
       "    <tr>\n",
       "      <th>475.0</th>\n",
       "      <td>445.50</td>\n",
       "      <td>0.150</td>\n",
       "      <td>445.350</td>\n",
       "      <td>False</td>\n",
       "    </tr>\n",
       "  </tbody>\n",
       "</table>\n",
       "</div>"
      ],
      "text/plain": [
       "CP                           C      P   CPdiff    min\n",
       "Date       Days Strike                               \n",
       "2009-01-01 9    400.0   520.45  0.125  520.325  False\n",
       "                425.0   496.10  0.125  495.975  False\n",
       "                450.0   470.50  0.125  470.375  False\n",
       "                470.0   450.50  0.150  450.350  False\n",
       "                475.0   445.50  0.150  445.350  False"
      ]
     },
     "execution_count": 6,
     "metadata": {},
     "output_type": "execute_result"
    }
   ],
   "source": [
    "# Find the absolute difference\n",
    "options2['CPdiff'] = (options2['C'] - options2['P']).abs()\n",
    "# Mark the minimum for each date/term\n",
    "options2['min'] = options2['CPdiff'].groupby(level = ['Date','Days']).transform(lambda x: x == x.min())\n",
    "\n",
    "options2.dropna().head()"
   ]
  },
  {
   "cell_type": "markdown",
   "metadata": {},
   "source": [
    "## Compute forward price"
   ]
  },
  {
   "cell_type": "code",
   "execution_count": 7,
   "metadata": {
    "pycharm": {
     "is_executing": false
    }
   },
   "outputs": [
    {
     "data": {
      "text/html": [
       "<div>\n",
       "<style scoped>\n",
       "    .dataframe tbody tr th:only-of-type {\n",
       "        vertical-align: middle;\n",
       "    }\n",
       "\n",
       "    .dataframe tbody tr th {\n",
       "        vertical-align: top;\n",
       "    }\n",
       "\n",
       "    .dataframe thead th {\n",
       "        text-align: right;\n",
       "    }\n",
       "</style>\n",
       "<table border=\"1\" class=\"dataframe\">\n",
       "  <thead>\n",
       "    <tr style=\"text-align: right;\">\n",
       "      <th></th>\n",
       "      <th></th>\n",
       "      <th>Forward</th>\n",
       "    </tr>\n",
       "    <tr>\n",
       "      <th>Date</th>\n",
       "      <th>Days</th>\n",
       "      <th></th>\n",
       "    </tr>\n",
       "  </thead>\n",
       "  <tbody>\n",
       "    <tr>\n",
       "      <th rowspan=\"2\" valign=\"top\">2009-01-01</th>\n",
       "      <th>9</th>\n",
       "      <td>920.500047</td>\n",
       "    </tr>\n",
       "    <tr>\n",
       "      <th>37</th>\n",
       "      <td>921.000385</td>\n",
       "    </tr>\n",
       "  </tbody>\n",
       "</table>\n",
       "</div>"
      ],
      "text/plain": [
       "                    Forward\n",
       "Date       Days            \n",
       "2009-01-01 9     920.500047\n",
       "           37    921.000385"
      ]
     },
     "execution_count": 7,
     "metadata": {},
     "output_type": "execute_result"
    }
   ],
   "source": [
    "# Leave only at-the-money optons\n",
    "df = options2[options2['min'] == 1].reset_index()\n",
    "# Merge with risk-free rate\n",
    "df = pd.merge(df, yields.reset_index(), how = 'left')\n",
    "\n",
    "# Compute the implied forward\n",
    "df['Forward'] = df['CPdiff'] * np.exp(df['Rate'] * df['Days'] / 36500)\n",
    "df['Forward'] += df['Strike']\n",
    "forward = df.set_index(['Date','Days'])[['Forward']]\n",
    "\n",
    "forward.head()"
   ]
  },
  {
   "cell_type": "markdown",
   "metadata": {},
   "source": [
    "## Compute at-the-money strike"
   ]
  },
  {
   "cell_type": "code",
   "execution_count": 8,
   "metadata": {
    "pycharm": {
     "is_executing": false
    }
   },
   "outputs": [
    {
     "data": {
      "text/html": [
       "<div>\n",
       "<style scoped>\n",
       "    .dataframe tbody tr th:only-of-type {\n",
       "        vertical-align: middle;\n",
       "    }\n",
       "\n",
       "    .dataframe tbody tr th {\n",
       "        vertical-align: top;\n",
       "    }\n",
       "\n",
       "    .dataframe thead th {\n",
       "        text-align: right;\n",
       "    }\n",
       "</style>\n",
       "<table border=\"1\" class=\"dataframe\">\n",
       "  <thead>\n",
       "    <tr style=\"text-align: right;\">\n",
       "      <th></th>\n",
       "      <th></th>\n",
       "      <th>Mid Strike</th>\n",
       "    </tr>\n",
       "    <tr>\n",
       "      <th>Date</th>\n",
       "      <th>Days</th>\n",
       "      <th></th>\n",
       "    </tr>\n",
       "  </thead>\n",
       "  <tbody>\n",
       "    <tr>\n",
       "      <th rowspan=\"2\" valign=\"top\">2009-01-01</th>\n",
       "      <th>9</th>\n",
       "      <td>920.0</td>\n",
       "    </tr>\n",
       "    <tr>\n",
       "      <th>37</th>\n",
       "      <td>920.0</td>\n",
       "    </tr>\n",
       "  </tbody>\n",
       "</table>\n",
       "</div>"
      ],
      "text/plain": [
       "                 Mid Strike\n",
       "Date       Days            \n",
       "2009-01-01 9          920.0\n",
       "           37         920.0"
      ]
     },
     "execution_count": 8,
     "metadata": {},
     "output_type": "execute_result"
    }
   ],
   "source": [
    "# Merge options with implied forward price\n",
    "left = options2.reset_index().set_index(['Date','Days'])\n",
    "df = pd.merge(left, forward, left_index = True, right_index = True)\n",
    "# Compute at-the-money strike\n",
    "mid_strike = df[df['Strike'] < df['Forward']]['Strike'].groupby(level = ['Date','Days']).max()\n",
    "mid_strike = pd.DataFrame({'Mid Strike' : mid_strike})\n",
    "\n",
    "mid_strike.head()"
   ]
  },
  {
   "cell_type": "markdown",
   "metadata": {},
   "source": [
    "## Separate out-of-the-money calls and puts"
   ]
  },
  {
   "cell_type": "code",
   "execution_count": 9,
   "metadata": {
    "pycharm": {
     "is_executing": false
    }
   },
   "outputs": [
    {
     "data": {
      "text/html": [
       "<div>\n",
       "<style scoped>\n",
       "    .dataframe tbody tr th:only-of-type {\n",
       "        vertical-align: middle;\n",
       "    }\n",
       "\n",
       "    .dataframe tbody tr th {\n",
       "        vertical-align: top;\n",
       "    }\n",
       "\n",
       "    .dataframe thead th {\n",
       "        text-align: right;\n",
       "    }\n",
       "</style>\n",
       "<table border=\"1\" class=\"dataframe\">\n",
       "  <thead>\n",
       "    <tr style=\"text-align: right;\">\n",
       "      <th></th>\n",
       "      <th></th>\n",
       "      <th>CP</th>\n",
       "      <th>Strike</th>\n",
       "      <th>Bid</th>\n",
       "      <th>Ask</th>\n",
       "      <th>Mid Strike</th>\n",
       "    </tr>\n",
       "    <tr>\n",
       "      <th>Date</th>\n",
       "      <th>Days</th>\n",
       "      <th></th>\n",
       "      <th></th>\n",
       "      <th></th>\n",
       "      <th></th>\n",
       "      <th></th>\n",
       "    </tr>\n",
       "  </thead>\n",
       "  <tbody>\n",
       "    <tr>\n",
       "      <th rowspan=\"5\" valign=\"top\">2009-01-01</th>\n",
       "      <th>37</th>\n",
       "      <td>P</td>\n",
       "      <td>900.0</td>\n",
       "      <td>50.2</td>\n",
       "      <td>55.4</td>\n",
       "      <td>920.0</td>\n",
       "    </tr>\n",
       "    <tr>\n",
       "      <th>37</th>\n",
       "      <td>P</td>\n",
       "      <td>905.0</td>\n",
       "      <td>52.2</td>\n",
       "      <td>57.2</td>\n",
       "      <td>920.0</td>\n",
       "    </tr>\n",
       "    <tr>\n",
       "      <th>37</th>\n",
       "      <td>P</td>\n",
       "      <td>910.0</td>\n",
       "      <td>54.0</td>\n",
       "      <td>59.5</td>\n",
       "      <td>920.0</td>\n",
       "    </tr>\n",
       "    <tr>\n",
       "      <th>37</th>\n",
       "      <td>P</td>\n",
       "      <td>915.0</td>\n",
       "      <td>56.3</td>\n",
       "      <td>61.5</td>\n",
       "      <td>920.0</td>\n",
       "    </tr>\n",
       "    <tr>\n",
       "      <th>37</th>\n",
       "      <td>P</td>\n",
       "      <td>920.0</td>\n",
       "      <td>57.8</td>\n",
       "      <td>63.3</td>\n",
       "      <td>920.0</td>\n",
       "    </tr>\n",
       "  </tbody>\n",
       "</table>\n",
       "</div>"
      ],
      "text/plain": [
       "                CP  Strike   Bid   Ask  Mid Strike\n",
       "Date       Days                                   \n",
       "2009-01-01 37    P   900.0  50.2  55.4       920.0\n",
       "           37    P   905.0  52.2  57.2       920.0\n",
       "           37    P   910.0  54.0  59.5       920.0\n",
       "           37    P   915.0  56.3  61.5       920.0\n",
       "           37    P   920.0  57.8  63.3       920.0"
      ]
     },
     "execution_count": 9,
     "metadata": {},
     "output_type": "execute_result"
    }
   ],
   "source": [
    "# Go back to original data and reindex it\n",
    "left = options.reset_index().set_index(['Date','Days']).drop('Premium', axis = 1)\n",
    "# Merge with at-the-money strike\n",
    "df = pd.merge(left, mid_strike, left_index = True, right_index = True)\n",
    "# Separate out-of-the-money calls and puts\n",
    "P = (df['Strike'] <= df['Mid Strike']) & (df['CP'] == 'P')\n",
    "C = (df['Strike'] >= df['Mid Strike']) & (df['CP'] == 'C')\n",
    "puts, calls = df[P], df[C]\n",
    "\n",
    "puts.tail()"
   ]
  },
  {
   "cell_type": "code",
   "execution_count": 10,
   "metadata": {
    "collapsed": false,
    "jupyter": {
     "outputs_hidden": false
    },
    "pycharm": {
     "name": "#%%\n"
    }
   },
   "outputs": [
    {
     "data": {
      "text/html": [
       "<div>\n",
       "<style scoped>\n",
       "    .dataframe tbody tr th:only-of-type {\n",
       "        vertical-align: middle;\n",
       "    }\n",
       "\n",
       "    .dataframe tbody tr th {\n",
       "        vertical-align: top;\n",
       "    }\n",
       "\n",
       "    .dataframe thead th {\n",
       "        text-align: right;\n",
       "    }\n",
       "</style>\n",
       "<table border=\"1\" class=\"dataframe\">\n",
       "  <thead>\n",
       "    <tr style=\"text-align: right;\">\n",
       "      <th></th>\n",
       "      <th></th>\n",
       "      <th>CP</th>\n",
       "      <th>Strike</th>\n",
       "      <th>Bid</th>\n",
       "      <th>Ask</th>\n",
       "      <th>Mid Strike</th>\n",
       "    </tr>\n",
       "    <tr>\n",
       "      <th>Date</th>\n",
       "      <th>Days</th>\n",
       "      <th></th>\n",
       "      <th></th>\n",
       "      <th></th>\n",
       "      <th></th>\n",
       "      <th></th>\n",
       "    </tr>\n",
       "  </thead>\n",
       "  <tbody>\n",
       "    <tr>\n",
       "      <th rowspan=\"5\" valign=\"top\">2009-01-01</th>\n",
       "      <th>9</th>\n",
       "      <td>C</td>\n",
       "      <td>920.0</td>\n",
       "      <td>35.2</td>\n",
       "      <td>39.1</td>\n",
       "      <td>920.0</td>\n",
       "    </tr>\n",
       "    <tr>\n",
       "      <th>9</th>\n",
       "      <td>C</td>\n",
       "      <td>925.0</td>\n",
       "      <td>31.4</td>\n",
       "      <td>35.2</td>\n",
       "      <td>920.0</td>\n",
       "    </tr>\n",
       "    <tr>\n",
       "      <th>9</th>\n",
       "      <td>C</td>\n",
       "      <td>930.0</td>\n",
       "      <td>31.0</td>\n",
       "      <td>33.9</td>\n",
       "      <td>920.0</td>\n",
       "    </tr>\n",
       "    <tr>\n",
       "      <th>9</th>\n",
       "      <td>C</td>\n",
       "      <td>935.0</td>\n",
       "      <td>26.0</td>\n",
       "      <td>31.5</td>\n",
       "      <td>920.0</td>\n",
       "    </tr>\n",
       "    <tr>\n",
       "      <th>9</th>\n",
       "      <td>C</td>\n",
       "      <td>940.0</td>\n",
       "      <td>26.0</td>\n",
       "      <td>29.0</td>\n",
       "      <td>920.0</td>\n",
       "    </tr>\n",
       "  </tbody>\n",
       "</table>\n",
       "</div>"
      ],
      "text/plain": [
       "                CP  Strike   Bid   Ask  Mid Strike\n",
       "Date       Days                                   \n",
       "2009-01-01 9     C   920.0  35.2  39.1       920.0\n",
       "           9     C   925.0  31.4  35.2       920.0\n",
       "           9     C   930.0  31.0  33.9       920.0\n",
       "           9     C   935.0  26.0  31.5       920.0\n",
       "           9     C   940.0  26.0  29.0       920.0"
      ]
     },
     "execution_count": 10,
     "metadata": {},
     "output_type": "execute_result"
    }
   ],
   "source": [
    "calls.head()"
   ]
  },
  {
   "cell_type": "markdown",
   "metadata": {},
   "source": [
    "## Remove all quotes after two consecutive zero bids"
   ]
  },
  {
   "cell_type": "code",
   "execution_count": 11,
   "metadata": {
    "pycharm": {
     "is_executing": false
    }
   },
   "outputs": [
    {
     "data": {
      "text/html": [
       "<div>\n",
       "<style scoped>\n",
       "    .dataframe tbody tr th:only-of-type {\n",
       "        vertical-align: middle;\n",
       "    }\n",
       "\n",
       "    .dataframe tbody tr th {\n",
       "        vertical-align: top;\n",
       "    }\n",
       "\n",
       "    .dataframe thead th {\n",
       "        text-align: right;\n",
       "    }\n",
       "</style>\n",
       "<table border=\"1\" class=\"dataframe\">\n",
       "  <thead>\n",
       "    <tr style=\"text-align: right;\">\n",
       "      <th></th>\n",
       "      <th></th>\n",
       "      <th>CP</th>\n",
       "      <th>Strike</th>\n",
       "      <th>Bid</th>\n",
       "      <th>Ask</th>\n",
       "      <th>Mid Strike</th>\n",
       "      <th>zero_bid</th>\n",
       "      <th>zero_bid_accum</th>\n",
       "    </tr>\n",
       "    <tr>\n",
       "      <th>Date</th>\n",
       "      <th>Days</th>\n",
       "      <th></th>\n",
       "      <th></th>\n",
       "      <th></th>\n",
       "      <th></th>\n",
       "      <th></th>\n",
       "      <th></th>\n",
       "      <th></th>\n",
       "    </tr>\n",
       "  </thead>\n",
       "  <tbody>\n",
       "    <tr>\n",
       "      <th rowspan=\"5\" valign=\"top\">2009-01-01</th>\n",
       "      <th>9</th>\n",
       "      <td>C</td>\n",
       "      <td>1210.0</td>\n",
       "      <td>0.05</td>\n",
       "      <td>0.5</td>\n",
       "      <td>920.0</td>\n",
       "      <td>0</td>\n",
       "      <td>0</td>\n",
       "    </tr>\n",
       "    <tr>\n",
       "      <th>9</th>\n",
       "      <td>C</td>\n",
       "      <td>1215.0</td>\n",
       "      <td>0.05</td>\n",
       "      <td>0.5</td>\n",
       "      <td>920.0</td>\n",
       "      <td>0</td>\n",
       "      <td>0</td>\n",
       "    </tr>\n",
       "    <tr>\n",
       "      <th>9</th>\n",
       "      <td>C</td>\n",
       "      <td>1220.0</td>\n",
       "      <td>0.05</td>\n",
       "      <td>1.0</td>\n",
       "      <td>920.0</td>\n",
       "      <td>0</td>\n",
       "      <td>0</td>\n",
       "    </tr>\n",
       "    <tr>\n",
       "      <th>9</th>\n",
       "      <td>C</td>\n",
       "      <td>1225.0</td>\n",
       "      <td>0.00</td>\n",
       "      <td>1.0</td>\n",
       "      <td>920.0</td>\n",
       "      <td>1</td>\n",
       "      <td>1</td>\n",
       "    </tr>\n",
       "    <tr>\n",
       "      <th>9</th>\n",
       "      <td>C</td>\n",
       "      <td>1230.0</td>\n",
       "      <td>0.00</td>\n",
       "      <td>1.0</td>\n",
       "      <td>920.0</td>\n",
       "      <td>1</td>\n",
       "      <td>2</td>\n",
       "    </tr>\n",
       "  </tbody>\n",
       "</table>\n",
       "</div>"
      ],
      "text/plain": [
       "                CP  Strike   Bid  Ask  Mid Strike  zero_bid  zero_bid_accum\n",
       "Date       Days                                                            \n",
       "2009-01-01 9     C  1210.0  0.05  0.5       920.0         0               0\n",
       "           9     C  1215.0  0.05  0.5       920.0         0               0\n",
       "           9     C  1220.0  0.05  1.0       920.0         0               0\n",
       "           9     C  1225.0  0.00  1.0       920.0         1               1\n",
       "           9     C  1230.0  0.00  1.0       920.0         1               2"
      ]
     },
     "execution_count": 11,
     "metadata": {},
     "output_type": "execute_result"
    }
   ],
   "source": [
    "# Indicator of zero bid\n",
    "calls = calls.assign(zero_bid=lambda df: (df['Bid'] == 0).astype(int))\n",
    "# Accumulate number of zero bids starting at-the-money\n",
    "calls['zero_bid_accum'] = calls.groupby(level = ['Date','Days'])['zero_bid'].cumsum()\n",
    "\n",
    "# Sort puts in reverse order inside date/term\n",
    "puts = puts.groupby(level = ['Date','Days']).apply(lambda x: x.sort_values(['Strike'], ascending = False))\n",
    "# # Indicator of zero bid\n",
    "puts = puts.assign(zero_bid=lambda df: (df['Bid'] == 0).astype(int))\n",
    "# # Accumulate number of zero bids starting at-the-money\n",
    "puts['zero_bid_accum'] = puts.groupby(level = ['Date','Days'])['zero_bid'].cumsum()\n",
    "# \n",
    "calls[(calls['Strike'] >= 1210) & (calls['Strike'] <= 1240)].head()"
   ]
  },
  {
   "cell_type": "code",
   "execution_count": 12,
   "metadata": {
    "pycharm": {
     "is_executing": false
    }
   },
   "outputs": [
    {
     "data": {
      "text/html": [
       "<div>\n",
       "<style scoped>\n",
       "    .dataframe tbody tr th:only-of-type {\n",
       "        vertical-align: middle;\n",
       "    }\n",
       "\n",
       "    .dataframe tbody tr th {\n",
       "        vertical-align: top;\n",
       "    }\n",
       "\n",
       "    .dataframe thead th {\n",
       "        text-align: right;\n",
       "    }\n",
       "</style>\n",
       "<table border=\"1\" class=\"dataframe\">\n",
       "  <thead>\n",
       "    <tr style=\"text-align: right;\">\n",
       "      <th></th>\n",
       "      <th></th>\n",
       "      <th>CP</th>\n",
       "      <th>C</th>\n",
       "      <th>P</th>\n",
       "    </tr>\n",
       "    <tr>\n",
       "      <th>Date</th>\n",
       "      <th>Days</th>\n",
       "      <th>Strike</th>\n",
       "      <th></th>\n",
       "      <th></th>\n",
       "    </tr>\n",
       "  </thead>\n",
       "  <tbody>\n",
       "    <tr>\n",
       "      <th rowspan=\"2\" valign=\"top\">2009-01-01</th>\n",
       "      <th>9</th>\n",
       "      <th>920.0</th>\n",
       "      <td>37.15</td>\n",
       "      <td>36.65</td>\n",
       "    </tr>\n",
       "    <tr>\n",
       "      <th>37</th>\n",
       "      <th>920.0</th>\n",
       "      <td>61.55</td>\n",
       "      <td>60.55</td>\n",
       "    </tr>\n",
       "  </tbody>\n",
       "</table>\n",
       "</div>"
      ],
      "text/plain": [
       "CP                          C      P\n",
       "Date       Days Strike              \n",
       "2009-01-01 9    920.0   37.15  36.65\n",
       "           37   920.0   61.55  60.55"
      ]
     },
     "execution_count": 12,
     "metadata": {},
     "output_type": "execute_result"
    }
   ],
   "source": [
    "# Merge puts and cals\n",
    "options3 = pd.concat([calls, puts]).reset_index()\n",
    "# Throw away bad stuff\n",
    "options3 = options3[(options3['zero_bid_accum'] < 2) & (options3['Bid'] > 0)]\n",
    "\n",
    "# Compute option premium as bid/ask average\n",
    "options3['Premium'] = (options3['Bid'] + options3['Ask']) / 2\n",
    "options3 = options3.set_index(['Date','Days','CP','Strike'])['Premium'].unstack('CP')\n",
    "\n",
    "options3.dropna().head()"
   ]
  },
  {
   "cell_type": "markdown",
   "metadata": {},
   "source": [
    "## Compute out-of-the-money option price"
   ]
  },
  {
   "cell_type": "code",
   "execution_count": 13,
   "metadata": {
    "pycharm": {
     "is_executing": false
    }
   },
   "outputs": [
    {
     "data": {
      "text/html": [
       "<div>\n",
       "<style scoped>\n",
       "    .dataframe tbody tr th:only-of-type {\n",
       "        vertical-align: middle;\n",
       "    }\n",
       "\n",
       "    .dataframe tbody tr th {\n",
       "        vertical-align: top;\n",
       "    }\n",
       "\n",
       "    .dataframe thead th {\n",
       "        text-align: right;\n",
       "    }\n",
       "</style>\n",
       "<table border=\"1\" class=\"dataframe\">\n",
       "  <thead>\n",
       "    <tr style=\"text-align: right;\">\n",
       "      <th></th>\n",
       "      <th></th>\n",
       "      <th>Strike</th>\n",
       "      <th>Mid Strike</th>\n",
       "      <th>Premium</th>\n",
       "    </tr>\n",
       "    <tr>\n",
       "      <th>Date</th>\n",
       "      <th>Days</th>\n",
       "      <th></th>\n",
       "      <th></th>\n",
       "      <th></th>\n",
       "    </tr>\n",
       "  </thead>\n",
       "  <tbody>\n",
       "    <tr>\n",
       "      <th rowspan=\"5\" valign=\"top\">2009-01-01</th>\n",
       "      <th>9</th>\n",
       "      <td>910.0</td>\n",
       "      <td>920.0</td>\n",
       "      <td>31.70</td>\n",
       "    </tr>\n",
       "    <tr>\n",
       "      <th>9</th>\n",
       "      <td>915.0</td>\n",
       "      <td>920.0</td>\n",
       "      <td>33.55</td>\n",
       "    </tr>\n",
       "    <tr>\n",
       "      <th>9</th>\n",
       "      <td>920.0</td>\n",
       "      <td>920.0</td>\n",
       "      <td>36.90</td>\n",
       "    </tr>\n",
       "    <tr>\n",
       "      <th>9</th>\n",
       "      <td>925.0</td>\n",
       "      <td>920.0</td>\n",
       "      <td>33.30</td>\n",
       "    </tr>\n",
       "    <tr>\n",
       "      <th>9</th>\n",
       "      <td>930.0</td>\n",
       "      <td>920.0</td>\n",
       "      <td>32.45</td>\n",
       "    </tr>\n",
       "  </tbody>\n",
       "</table>\n",
       "</div>"
      ],
      "text/plain": [
       "                 Strike  Mid Strike  Premium\n",
       "Date       Days                             \n",
       "2009-01-01 9      910.0       920.0    31.70\n",
       "           9      915.0       920.0    33.55\n",
       "           9      920.0       920.0    36.90\n",
       "           9      925.0       920.0    33.30\n",
       "           9      930.0       920.0    32.45"
      ]
     },
     "execution_count": 13,
     "metadata": {},
     "output_type": "execute_result"
    }
   ],
   "source": [
    "# Merge wth at-the-money strike price\n",
    "left = options3.reset_index().set_index(['Date','Days'])\n",
    "df = pd.merge(left, mid_strike, left_index = True, right_index = True)\n",
    "\n",
    "# Conditions to separate out-of-the-money puts and calls\n",
    "condition1 = df['Strike'] < df['Mid Strike']\n",
    "condition2 = df['Strike'] > df['Mid Strike']\n",
    "# At-the-money we have two quotes, so take the average\n",
    "df['Premium'] = (df['P'] + df['C']) / 2\n",
    "# Remove in-the-money options\n",
    "df.loc[condition1, 'Premium'] = df.loc[condition1, 'P']\n",
    "df.loc[condition2, 'Premium'] = df.loc[condition2, 'C']\n",
    "\n",
    "options4 = df[['Strike','Mid Strike','Premium']].copy()\n",
    "\n",
    "options4[(options4['Strike'] >= 910) & (options4['Strike'] <= 930)].head()"
   ]
  },
  {
   "cell_type": "markdown",
   "metadata": {},
   "source": [
    "## Compute difference between adjoining strikes"
   ]
  },
  {
   "cell_type": "code",
   "execution_count": 14,
   "metadata": {
    "pycharm": {
     "is_executing": false
    }
   },
   "outputs": [
    {
     "data": {
      "text/html": [
       "<div>\n",
       "<style scoped>\n",
       "    .dataframe tbody tr th:only-of-type {\n",
       "        vertical-align: middle;\n",
       "    }\n",
       "\n",
       "    .dataframe tbody tr th {\n",
       "        vertical-align: top;\n",
       "    }\n",
       "\n",
       "    .dataframe thead th {\n",
       "        text-align: right;\n",
       "    }\n",
       "</style>\n",
       "<table border=\"1\" class=\"dataframe\">\n",
       "  <thead>\n",
       "    <tr style=\"text-align: right;\">\n",
       "      <th></th>\n",
       "      <th></th>\n",
       "      <th>Strike</th>\n",
       "      <th>Mid Strike</th>\n",
       "      <th>Premium</th>\n",
       "      <th>dK</th>\n",
       "    </tr>\n",
       "    <tr>\n",
       "      <th>Date</th>\n",
       "      <th>Days</th>\n",
       "      <th></th>\n",
       "      <th></th>\n",
       "      <th></th>\n",
       "      <th></th>\n",
       "    </tr>\n",
       "  </thead>\n",
       "  <tbody>\n",
       "    <tr>\n",
       "      <th rowspan=\"5\" valign=\"top\">2009-01-01</th>\n",
       "      <th>9</th>\n",
       "      <td>400.0</td>\n",
       "      <td>920.0</td>\n",
       "      <td>0.125</td>\n",
       "      <td>25.0</td>\n",
       "    </tr>\n",
       "    <tr>\n",
       "      <th>9</th>\n",
       "      <td>425.0</td>\n",
       "      <td>920.0</td>\n",
       "      <td>0.125</td>\n",
       "      <td>25.0</td>\n",
       "    </tr>\n",
       "    <tr>\n",
       "      <th>9</th>\n",
       "      <td>450.0</td>\n",
       "      <td>920.0</td>\n",
       "      <td>0.125</td>\n",
       "      <td>22.5</td>\n",
       "    </tr>\n",
       "    <tr>\n",
       "      <th>9</th>\n",
       "      <td>470.0</td>\n",
       "      <td>920.0</td>\n",
       "      <td>0.150</td>\n",
       "      <td>12.5</td>\n",
       "    </tr>\n",
       "    <tr>\n",
       "      <th>9</th>\n",
       "      <td>475.0</td>\n",
       "      <td>920.0</td>\n",
       "      <td>0.150</td>\n",
       "      <td>5.0</td>\n",
       "    </tr>\n",
       "  </tbody>\n",
       "</table>\n",
       "</div>"
      ],
      "text/plain": [
       "                 Strike  Mid Strike  Premium    dK\n",
       "Date       Days                                   \n",
       "2009-01-01 9      400.0       920.0    0.125  25.0\n",
       "           9      425.0       920.0    0.125  25.0\n",
       "           9      450.0       920.0    0.125  22.5\n",
       "           9      470.0       920.0    0.150  12.5\n",
       "           9      475.0       920.0    0.150   5.0"
      ]
     },
     "execution_count": 14,
     "metadata": {},
     "output_type": "execute_result"
    }
   ],
   "source": [
    "def compute_adjoining_strikes_diff(group):\n",
    "    new = group.copy()\n",
    "    new.iloc[1:-1] = np.array((group.values[2:] - group.values[:-2]) / 2)\n",
    "    new.iloc[0] = group.values[1] - group.values[0]\n",
    "    new.iloc[-1] = group.values[-1] - group.values[-2]\n",
    "    return new\n",
    "\n",
    "options4['dK'] = options4.groupby(['Date','Days'])['Strike'].transform(compute_adjoining_strikes_diff)\n",
    "\n",
    "options4.head()"
   ]
  },
  {
   "cell_type": "markdown",
   "metadata": {},
   "source": [
    "## Compute contribution of each strike"
   ]
  },
  {
   "cell_type": "code",
   "execution_count": 15,
   "metadata": {
    "pycharm": {
     "is_executing": false
    }
   },
   "outputs": [
    {
     "data": {
      "text/html": [
       "<div>\n",
       "<style scoped>\n",
       "    .dataframe tbody tr th:only-of-type {\n",
       "        vertical-align: middle;\n",
       "    }\n",
       "\n",
       "    .dataframe tbody tr th {\n",
       "        vertical-align: top;\n",
       "    }\n",
       "\n",
       "    .dataframe thead th {\n",
       "        text-align: right;\n",
       "    }\n",
       "</style>\n",
       "<table border=\"1\" class=\"dataframe\">\n",
       "  <thead>\n",
       "    <tr style=\"text-align: right;\">\n",
       "      <th></th>\n",
       "      <th>Date</th>\n",
       "      <th>Days</th>\n",
       "      <th>Strike</th>\n",
       "      <th>Mid Strike</th>\n",
       "      <th>Premium</th>\n",
       "      <th>dK</th>\n",
       "      <th>Rate</th>\n",
       "      <th>sigma2</th>\n",
       "    </tr>\n",
       "  </thead>\n",
       "  <tbody>\n",
       "    <tr>\n",
       "      <th>0</th>\n",
       "      <td>2009-01-01</td>\n",
       "      <td>9</td>\n",
       "      <td>400.0</td>\n",
       "      <td>920.0</td>\n",
       "      <td>0.125</td>\n",
       "      <td>25.0</td>\n",
       "      <td>0.38</td>\n",
       "      <td>0.000020</td>\n",
       "    </tr>\n",
       "    <tr>\n",
       "      <th>1</th>\n",
       "      <td>2009-01-01</td>\n",
       "      <td>9</td>\n",
       "      <td>425.0</td>\n",
       "      <td>920.0</td>\n",
       "      <td>0.125</td>\n",
       "      <td>25.0</td>\n",
       "      <td>0.38</td>\n",
       "      <td>0.000017</td>\n",
       "    </tr>\n",
       "    <tr>\n",
       "      <th>2</th>\n",
       "      <td>2009-01-01</td>\n",
       "      <td>9</td>\n",
       "      <td>450.0</td>\n",
       "      <td>920.0</td>\n",
       "      <td>0.125</td>\n",
       "      <td>22.5</td>\n",
       "      <td>0.38</td>\n",
       "      <td>0.000014</td>\n",
       "    </tr>\n",
       "    <tr>\n",
       "      <th>3</th>\n",
       "      <td>2009-01-01</td>\n",
       "      <td>9</td>\n",
       "      <td>470.0</td>\n",
       "      <td>920.0</td>\n",
       "      <td>0.150</td>\n",
       "      <td>12.5</td>\n",
       "      <td>0.38</td>\n",
       "      <td>0.000008</td>\n",
       "    </tr>\n",
       "    <tr>\n",
       "      <th>4</th>\n",
       "      <td>2009-01-01</td>\n",
       "      <td>9</td>\n",
       "      <td>475.0</td>\n",
       "      <td>920.0</td>\n",
       "      <td>0.150</td>\n",
       "      <td>5.0</td>\n",
       "      <td>0.38</td>\n",
       "      <td>0.000003</td>\n",
       "    </tr>\n",
       "  </tbody>\n",
       "</table>\n",
       "</div>"
      ],
      "text/plain": [
       "        Date  Days  Strike  Mid Strike  Premium    dK  Rate    sigma2\n",
       "0 2009-01-01     9   400.0       920.0    0.125  25.0  0.38  0.000020\n",
       "1 2009-01-01     9   425.0       920.0    0.125  25.0  0.38  0.000017\n",
       "2 2009-01-01     9   450.0       920.0    0.125  22.5  0.38  0.000014\n",
       "3 2009-01-01     9   470.0       920.0    0.150  12.5  0.38  0.000008\n",
       "4 2009-01-01     9   475.0       920.0    0.150   5.0  0.38  0.000003"
      ]
     },
     "execution_count": 15,
     "metadata": {},
     "output_type": "execute_result"
    }
   ],
   "source": [
    "# Merge with risk-free rate\n",
    "contrib = pd.merge(options4, yields, left_index = True, right_index = True).reset_index()\n",
    "\n",
    "contrib['sigma2'] = contrib['dK'] / contrib['Strike'] ** 2\n",
    "contrib['sigma2'] *= contrib['Premium'] * np.exp(contrib['Rate'] * contrib['Days'] / 36500)\n",
    "\n",
    "contrib.head()"
   ]
  },
  {
   "cell_type": "markdown",
   "metadata": {},
   "source": [
    "## Compute each preiod index"
   ]
  },
  {
   "cell_type": "code",
   "execution_count": 16,
   "metadata": {
    "pycharm": {
     "is_executing": false
    }
   },
   "outputs": [
    {
     "data": {
      "text/html": [
       "<div>\n",
       "<style scoped>\n",
       "    .dataframe tbody tr th:only-of-type {\n",
       "        vertical-align: middle;\n",
       "    }\n",
       "\n",
       "    .dataframe tbody tr th {\n",
       "        vertical-align: top;\n",
       "    }\n",
       "\n",
       "    .dataframe thead th {\n",
       "        text-align: right;\n",
       "    }\n",
       "</style>\n",
       "<table border=\"1\" class=\"dataframe\">\n",
       "  <thead>\n",
       "    <tr style=\"text-align: right;\">\n",
       "      <th></th>\n",
       "      <th></th>\n",
       "      <th>sigma2</th>\n",
       "    </tr>\n",
       "    <tr>\n",
       "      <th>Date</th>\n",
       "      <th>Days</th>\n",
       "      <th></th>\n",
       "    </tr>\n",
       "  </thead>\n",
       "  <tbody>\n",
       "    <tr>\n",
       "      <th rowspan=\"2\" valign=\"top\">2009-01-01</th>\n",
       "      <th>9</th>\n",
       "      <td>0.472767</td>\n",
       "    </tr>\n",
       "    <tr>\n",
       "      <th>37</th>\n",
       "      <td>0.366818</td>\n",
       "    </tr>\n",
       "  </tbody>\n",
       "</table>\n",
       "</div>"
      ],
      "text/plain": [
       "                   sigma2\n",
       "Date       Days          \n",
       "2009-01-01 9     0.472767\n",
       "           37    0.366818"
      ]
     },
     "execution_count": 16,
     "metadata": {},
     "output_type": "execute_result"
    }
   ],
   "source": [
    "# Sum up contributions from all strikes\n",
    "sigma2 = contrib.groupby(['Date','Days'])[['sigma2']].sum() * 2\n",
    "\n",
    "# Merge at-the-money strike and implied forward\n",
    "sigma2['Mid Strike'] = mid_strike\n",
    "sigma2['Forward'] = forward\n",
    "\n",
    "# Compute variance for each term\n",
    "sigma2['sigma2'] -= (sigma2['Forward'] / sigma2['Mid Strike'] - 1) ** 2\n",
    "sigma2['sigma2'] /= sigma2.index.get_level_values(1).astype(float) / 365\n",
    "sigma2 = sigma2[['sigma2']]\n",
    "\n",
    "sigma2.head()"
   ]
  },
  {
   "cell_type": "markdown",
   "metadata": {},
   "source": [
    "## Compute interpolated index"
   ]
  },
  {
   "cell_type": "code",
   "execution_count": 17,
   "metadata": {
    "pycharm": {
     "is_executing": false
    }
   },
   "outputs": [
    {
     "data": {
      "text/html": [
       "<div>\n",
       "<style scoped>\n",
       "    .dataframe tbody tr th:only-of-type {\n",
       "        vertical-align: middle;\n",
       "    }\n",
       "\n",
       "    .dataframe tbody tr th {\n",
       "        vertical-align: top;\n",
       "    }\n",
       "\n",
       "    .dataframe thead th {\n",
       "        text-align: right;\n",
       "    }\n",
       "</style>\n",
       "<table border=\"1\" class=\"dataframe\">\n",
       "  <thead>\n",
       "    <tr style=\"text-align: right;\">\n",
       "      <th></th>\n",
       "      <th>T1</th>\n",
       "      <th>T2</th>\n",
       "      <th>sigma2_T1</th>\n",
       "      <th>sigma2_T2</th>\n",
       "    </tr>\n",
       "    <tr>\n",
       "      <th>Date</th>\n",
       "      <th></th>\n",
       "      <th></th>\n",
       "      <th></th>\n",
       "      <th></th>\n",
       "    </tr>\n",
       "  </thead>\n",
       "  <tbody>\n",
       "    <tr>\n",
       "      <th>2009-01-01</th>\n",
       "      <td>9</td>\n",
       "      <td>37</td>\n",
       "      <td>0.472767</td>\n",
       "      <td>0.366818</td>\n",
       "    </tr>\n",
       "  </tbody>\n",
       "</table>\n",
       "</div>"
      ],
      "text/plain": [
       "            T1  T2  sigma2_T1  sigma2_T2\n",
       "Date                                    \n",
       "2009-01-01   9  37   0.472767   0.366818"
      ]
     },
     "execution_count": 17,
     "metadata": {},
     "output_type": "execute_result"
    }
   ],
   "source": [
    "# This function determines near- and next-term if there are several maturities in the data\n",
    "def f(group):\n",
    "    days = np.array(group['Days'])\n",
    "    sigma2 = np.array(group['sigma2'])\n",
    "    \n",
    "    if days.min() <= 30:\n",
    "        T1 = days[days <= 30].max()\n",
    "    else:\n",
    "        T1 = days.min()\n",
    "    \n",
    "    T2 = days[days > T1].min()\n",
    "    \n",
    "    sigma_T1 = sigma2[days == T1][0]\n",
    "    sigma_T2 = sigma2[days == T2][0]\n",
    "    \n",
    "    return pd.DataFrame([{'T1' : T1, 'T2' : T2, 'sigma2_T1' : sigma_T1, 'sigma2_T2' : sigma_T2}])\n",
    "\n",
    "two_sigmas = sigma2.reset_index().groupby('Date').apply(f, include_groups=False).groupby(level = 'Date').first()\n",
    "\n",
    "two_sigmas.head()"
   ]
  },
  {
   "cell_type": "markdown",
   "metadata": {},
   "source": [
    "## Interpolate the VIX"
   ]
  },
  {
   "cell_type": "code",
   "execution_count": 18,
   "metadata": {
    "pycharm": {
     "is_executing": false
    }
   },
   "outputs": [
    {
     "data": {
      "text/html": [
       "<div>\n",
       "<style scoped>\n",
       "    .dataframe tbody tr th:only-of-type {\n",
       "        vertical-align: middle;\n",
       "    }\n",
       "\n",
       "    .dataframe tbody tr th {\n",
       "        vertical-align: top;\n",
       "    }\n",
       "\n",
       "    .dataframe thead th {\n",
       "        text-align: right;\n",
       "    }\n",
       "</style>\n",
       "<table border=\"1\" class=\"dataframe\">\n",
       "  <thead>\n",
       "    <tr style=\"text-align: right;\">\n",
       "      <th></th>\n",
       "      <th>VIX</th>\n",
       "    </tr>\n",
       "    <tr>\n",
       "      <th>Date</th>\n",
       "      <th></th>\n",
       "    </tr>\n",
       "  </thead>\n",
       "  <tbody>\n",
       "    <tr>\n",
       "      <th>2009-01-01</th>\n",
       "      <td>61.217999</td>\n",
       "    </tr>\n",
       "  </tbody>\n",
       "</table>\n",
       "</div>"
      ],
      "text/plain": [
       "                  VIX\n",
       "Date                 \n",
       "2009-01-01  61.217999"
      ]
     },
     "execution_count": 18,
     "metadata": {},
     "output_type": "execute_result"
    }
   ],
   "source": [
    "df = two_sigmas.copy()\n",
    "\n",
    "for t in ['T1','T2']:\n",
    "    # Convert to fraction of the year\n",
    "    df['days_' + t] = df[t].astype(float) / 365\n",
    "    # Convert to miutes\n",
    "    df[t] = (df[t] - 1) * 1440. + 510 + 930\n",
    "\n",
    "df['sigma2_T1'] = df['sigma2_T1'] * df['days_T1'] * (df['T2'] - 30. * 1440.)\n",
    "df['sigma2_T2'] = df['sigma2_T2'] * df['days_T2'] * (30. * 1440. - df['T1'])\n",
    "df['VIX'] = ((df['sigma2_T1'] + df['sigma2_T2']) / (df['T2'] - df['T1']) * 365. / 30.) ** .5 * 100\n",
    "\n",
    "VIX = df[['VIX']]\n",
    "\n",
    "VIX.head()"
   ]
  }
 ],
 "metadata": {
  "kernelspec": {
   "display_name": "Python 3 (ipykernel)",
   "language": "python",
   "name": "python3"
  },
  "language_info": {
   "codemirror_mode": {
    "name": "ipython",
    "version": 3
   },
   "file_extension": ".py",
   "mimetype": "text/x-python",
   "name": "python",
   "nbconvert_exporter": "python",
   "pygments_lexer": "ipython3",
   "version": "3.12.2"
  },
  "pycharm": {
   "stem_cell": {
    "cell_type": "raw",
    "metadata": {
     "collapsed": false
    },
    "source": []
   }
  }
 },
 "nbformat": 4,
 "nbformat_minor": 4
}
